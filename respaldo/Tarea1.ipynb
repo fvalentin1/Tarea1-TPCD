{
 "cells": [
  {
   "cell_type": "code",
   "execution_count": 1,
   "metadata": {},
   "outputs": [],
   "source": [
    "######### Funciones pto 2 #########\n",
    "\n",
    "funContarPalabras=lambda l:len(l);\n",
    "   #Entrega cantidad de palabras en una lista.\n",
    "\n",
    "def funBuscarPalabra(d,p):\n",
    "   #Buscar una palabra en un diccionario y las veces que esta repetida.\n",
    "   try:\n",
    "      Found = p in d\n",
    "      Cantidad = d[p]  \n",
    "   except LookupError:  \n",
    "      #Error de key no encontrada\n",
    "      Found = False\n",
    "      Cantidad = 0  \n",
    "\n",
    "   return Found, Cantidad\n",
    "\n",
    "######### Funciones pto 3 #########\n",
    "\n",
    "def funReemplazarPalabra(t):\n",
    "   #Buscar una palabra en un diccionario y las veces que esta repetida.\n",
    "   p1 = input('Palabra a reemplazar: ')\n",
    "   while texto.find(p1) == -1:\n",
    "      print('Palabra no encontrada en el texto, vuelva a intentar')\n",
    "      p1 = input('Palabra a reemplazar: ')\n",
    "   p2 = input('Palabra por la cual reemplazar: ')\n",
    "\n",
    "   try:\n",
    "      t = t.replace(p1, p2)\n",
    "   except LookupError:  \n",
    "      #Error palabra no encontrada\n",
    "      0\n",
    "\n",
    "   return t \n"
   ]
  },
  {
   "cell_type": "code",
   "execution_count": 2,
   "metadata": {},
   "outputs": [
    {
     "name": "stdout",
     "output_type": "stream",
     "text": [
      "Cantidad de palabras en el texto:  1496\n",
      "Se ha encontrado la palabra \"árbol\" 6 veces en el texto.\n"
     ]
    }
   ],
   "source": [
    "######### Inicio Programa #########\n",
    "f = open('Libros_txt_utf-8\\El_Arbol_De_La_Colina copy.txt', 'rt', encoding='utf-8')\n",
    "texto = f.read()\n",
    "\n",
    "#Separar texto en palabras y guardarlo en una lista\n",
    "palabras = list(texto.split())\n",
    "print('Cantidad de palabras en el texto: ', funContarPalabras(palabras))\n",
    "\n",
    "#Guarda la lista de palabras en un diccionario\n",
    "diccionario = dict()\n",
    "for p in palabras:\n",
    "   diccionario[p] = diccionario.get(p,0) + 1\n",
    "\n",
    "###### Punto 2 ######\n",
    "#Busca palabra con la funcion funBuscarPalabra\n",
    "palabraB = input('Palabra a buscar: ')\n",
    "busquedaP = funBuscarPalabra(diccionario, palabraB)\n",
    "if busquedaP[0]== True:\n",
    "   print (f'Se ha encontrado la palabra \"{palabraB}\" {busquedaP[1]} veces en el texto.')\n",
    "else:\n",
    "   print (f'No se ha encontrado la palabra \"{palabraB}\" en el texto.')\n",
    "\n",
    "###### Punto 3 ######\n",
    "textoR = funReemplazarPalabra(texto)\n",
    "f.close()\n",
    "f2 = open('Libros_txt_utf-8\\El_Arbol_De_La_Colina reemplazado.txt', 'wt', encoding='utf-8')\n",
    "f2.write(textoR)\n",
    "\n",
    "f2.close()"
   ]
  }
 ],
 "metadata": {
  "interpreter": {
   "hash": "3c8329ba198a29af59fd0e8e51efddb802bcffd1870995f9090368742724b0b0"
  },
  "kernelspec": {
   "display_name": "Python 3.9.12 64-bit (windows store)",
   "language": "python",
   "name": "python3"
  },
  "language_info": {
   "codemirror_mode": {
    "name": "ipython",
    "version": 3
   },
   "file_extension": ".py",
   "mimetype": "text/x-python",
   "name": "python",
   "nbconvert_exporter": "python",
   "pygments_lexer": "ipython3",
   "version": "3.9.12"
  },
  "orig_nbformat": 4
 },
 "nbformat": 4,
 "nbformat_minor": 2
}
