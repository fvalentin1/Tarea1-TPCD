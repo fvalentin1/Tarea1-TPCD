{
 "cells": [
  {
   "cell_type": "code",
   "execution_count": null,
   "metadata": {},
   "outputs": [],
   "source": [
    "import sys\n",
    "\n",
    "#Leer un archivo de texto\n",
    "#f=open(\"Libros\\libro.txt\",\"rt\",encoding=\"UTF-8\")\n",
    "\n",
    "#Definir Menú\n",
    "while True:\n",
    "    print(\"Elija una operacion a realizar con el documento\")\n",
    "    print()\n",
    "    print(\"1. Mostrar estadistica\")\n",
    "    print(\"2. Buscar una palabra\")\n",
    "    print(\"3. Reemplazar una palabra\")\n",
    "    opcion = input(\"Opción: \")\n",
    "    \n",
    "    try:\n",
    "        opcion = int(opcion)\n",
    "        if opcion > 3 or opcion < 1:\n",
    "            print(\"Opcion Inválida\")\n",
    "            print()\n",
    "            print(\"-----------------\")\n",
    "        else:\n",
    "            if opcion == 1:\n",
    "                print(\"Opcion 1 elegida\")\n",
    "                print()\n",
    "                print(\"-----------------\")\n",
    "\n",
    "            elif opcion == 2:\n",
    "                print(\"Opcion 2 elegida\")\n",
    "                print()\n",
    "                print(\"-----------------\")\n",
    "\n",
    "            elif opcion == 3:\n",
    "                print(\"Opcion 3 elegida\")\n",
    "                print()\n",
    "                PalabraAReemplazar = input(\"Ingrese una palabra para reemplazar\")\n",
    "                #Buscar si existe una palabra así en el texto, si existe, pedir palabra nueva\n",
    "\n",
    "                PalabraNueva = input(\"Ingrese la palabra nueva para reemplazar\")\n",
    "                #Reemplazar la pablabra antigua por la nueva\n",
    "\n",
    "                print(\"-----------------\")\n",
    "    except:\n",
    "        print(\"Ingrese un número entero, porfavor\")\n",
    "        print()\n",
    "        print(\"-----------------\")"
   ]
  }
 ],
 "metadata": {
  "language_info": {
   "name": "python"
  },
  "orig_nbformat": 4
 },
 "nbformat": 4,
 "nbformat_minor": 2
}
